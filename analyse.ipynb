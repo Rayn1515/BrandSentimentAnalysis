{
 "cells": [
  {
   "cell_type": "code",
   "execution_count": 26,
   "id": "19420342",
   "metadata": {},
   "outputs": [],
   "source": [
    "import praw\n",
    "import pandas as pd\n",
    "import re\n",
    "from sqlalchemy import create_engine\n",
    "from nltk.sentiment.vader import SentimentIntensityAnalyzer\n",
    "import nltk\n",
    "from datetime import datetime"
   ]
  },
  {
   "cell_type": "code",
   "execution_count": 27,
   "id": "b0feb3a7",
   "metadata": {},
   "outputs": [
    {
     "name": "stderr",
     "output_type": "stream",
     "text": [
      "[nltk_data] Downloading package vader_lexicon to C:\\Users\\Devanshi\n",
      "[nltk_data]     Raut\\AppData\\Roaming\\nltk_data...\n",
      "[nltk_data]   Package vader_lexicon is already up-to-date!\n"
     ]
    },
    {
     "data": {
      "text/plain": [
       "True"
      ]
     },
     "execution_count": 27,
     "metadata": {},
     "output_type": "execute_result"
    }
   ],
   "source": [
    "nltk.download('vader_lexicon')"
   ]
  },
  {
   "cell_type": "code",
   "execution_count": 38,
   "id": "23073a9d",
   "metadata": {},
   "outputs": [],
   "source": [
    "from dotenv import load_dotenv\n",
    "import os\n",
    "load_dotenv() \n",
    "\n",
    "reddit = praw.Reddit(\n",
    "    client_id=os.getenv(\"REDDIT_CLIENT_ID\"),\n",
    "    client_secret=os.getenv(\"REDDIT_CLIENT_SECRET\"),\n",
    "    user_agent=os.getenv(\"REDDIT_USER_AGENT\")\n",
    ")\n",
    "\n"
   ]
  },
  {
   "cell_type": "code",
   "execution_count": null,
   "id": "bd383e18",
   "metadata": {},
   "outputs": [],
   "source": [
    "from sqlalchemy import text,inspect\n",
    "from sqlalchemy import inspect\n",
    "\n",
    "def init_db():\n",
    "    engine = create_engine(\"sqlite:///reddit_sentiment.db\")\n",
    "\n",
    "    inspector = inspect(engine)\n",
    "    \n",
    "\n",
    "    if 'reddit_posts' not in inspector.get_table_names():\n",
    "        with engine.connect() as conn:\n",
    "\n",
    "            conn.execute(text(\"\"\"\n",
    "            CREATE TABLE reddit_posts (\n",
    "                brand TEXT,\n",
    "                title TEXT,\n",
    "                text TEXT,\n",
    "                upvotes INTEGER,\n",
    "                subreddit TEXT,\n",
    "                url TEXT UNIQUE,\n",
    "                scraped_at TEXT,\n",
    "                is_comment BOOLEAN,\n",
    "                cleaned_text TEXT,\n",
    "                sentiment_score REAL,\n",
    "                sentiment TEXT\n",
    "            )\n",
    "            \"\"\"))\n",
    "            conn.commit()\n",
    "            print(\"Created new reddit_posts table\")\n",
    "    else:\n",
    "        print(\"reddit_posts table already exists\")\n",
    "    \n",
    "    return engine\n",
    "\n",
    "engine = init_db()"
   ]
  },
  {
   "cell_type": "code",
   "execution_count": null,
   "id": "ccf3e8d5",
   "metadata": {},
   "outputs": [],
   "source": [
    "def find_relevant_subreddits(brand_name, min_subscribers=10000):\n",
    "    \"\"\"Returns active subreddits discussing the brand.\"\"\"\n",
    "    relevant_subs = []\n",
    "    for subreddit in reddit.subreddits.search_by_name(brand_name):\n",
    "        if subreddit.subscribers >= min_subscribers:\n",
    "            relevant_subs.append(subreddit.display_name)\n",
    "    return relevant_subs or [brand_name.lower()]\n",
    "\n",
    "def scrape_posts_and_comments(brand_name, subreddit_name, post_limit=10, comment_limit=5):\n",
    "    \"\"\"Scrape only new posts not already in the database.\"\"\"\n",
    "    existing_urls = pd.read_sql(\n",
    "        f\"SELECT url FROM reddit_posts WHERE brand = '{brand_name}'\", \n",
    "        engine\n",
    "    )['url'].tolist()\n",
    "    \n",
    "    subreddit = reddit.subreddit(subreddit_name)\n",
    "    new_posts = []\n",
    "    for post in subreddit.search(brand_name, limit=post_limit):\n",
    "        if post.url not in existing_urls:\n",
    "            new_posts.append({\n",
    "                \"brand\": brand_name,\n",
    "                \"title\": post.title,\n",
    "                \"text\": post.selftext,\n",
    "                \"upvotes\": post.score,\n",
    "                \"subreddit\": subreddit_name,\n",
    "                \"url\": post.url,\n",
    "                \"scraped_at\": datetime.now().strftime(\"%Y-%m-%d %H:%M:%S\")\n",
    "            })\n",
    "    posts_df = pd.DataFrame(new_posts)\n",
    "\n",
    "    comments_data = []\n",
    "    for _, post in posts_df.iterrows():\n",
    "        try:\n",
    "            submission = reddit.submission(url=post['url'])\n",
    "            \n",
    "\n",
    "            try:\n",
    "                submission.comments.replace_more(limit=0)\n",
    "                comments = submission.comments.list()[:comment_limit]\n",
    "            except Exception as e:\n",
    "                continue\n",
    "                \n",
    "            for comment in comments:\n",
    "                try:\n",
    "                    comments_data.append({\n",
    "                        'brand': brand_name,\n",
    "                        'text': comment.body,\n",
    "                        'upvotes': comment.score,\n",
    "                        'subreddit': subreddit_name,\n",
    "                        'url': f\"{post['url']}/{comment.id}\",\n",
    "                        'scraped_at': datetime.now().strftime(\"%Y-%m-%d %H:%M:%S\"),\n",
    "                        'is_comment': True\n",
    "                    })\n",
    "                except Exception as e:\n",
    "                    print(f\"Error processing comment {comment.id}: {str(e)}\")\n",
    "                    continue\n",
    "                    \n",
    "        except Exception as e:\n",
    "            print(f\"Error processing post {post['url']}: {str(e)}\")\n",
    "            continue\n",
    "    \n",
    "    comments_df = pd.DataFrame(comments_data)\n",
    "    return pd.concat([posts_df, comments_df]) "
   ]
  },
  {
   "cell_type": "code",
   "execution_count": 31,
   "id": "e54d7fe4",
   "metadata": {},
   "outputs": [],
   "source": [
    "def analyze_sentiment(df):\n",
    "    analyzer = SentimentIntensityAnalyzer()\n",
    "    df['cleaned_text'] = df['text'].apply(\n",
    "        lambda x: re.sub(r'http\\S+|[^a-zA-Z\\s]', '', str(x)).lower().strip()\n",
    "    )\n",
    "    df['sentiment_score'] = df['cleaned_text'].apply(\n",
    "        lambda x: analyzer.polarity_scores(x)['compound']\n",
    "    )\n",
    "    df['sentiment'] = df['sentiment_score'].apply(\n",
    "        lambda x: 'positive' if x > 0.05 else 'negative' if x < -0.05 else 'neutral'\n",
    "    )\n",
    "    return df"
   ]
  },
  {
   "cell_type": "code",
   "execution_count": 32,
   "id": "61ee3208",
   "metadata": {},
   "outputs": [],
   "source": [
    "def update_brand_data(brand_name):\n",
    "    \"\"\"Main workflow: scrape, analyze, and update DB.\"\"\"\n",
    "    subreddits = find_relevant_subreddits(brand_name)\n",
    "    print(f\"Found subreddits for {brand_name}: {subreddits}\")\n",
    "    \n",
    "    all_new_posts = pd.DataFrame()\n",
    "    for subreddit in subreddits:\n",
    "        new_posts = scrape_posts_and_comments(brand_name, subreddit)\n",
    "        if not new_posts.empty:\n",
    "            all_new_posts = pd.concat([all_new_posts, new_posts])\n",
    "    \n",
    "    if not all_new_posts.empty:\n",
    "        analyzed_data = analyze_sentiment(all_new_posts)\n",
    "        analyzed_data.to_sql(\"reddit_posts\", engine, if_exists=\"append\", index=False)\n",
    "        print(f\"Updated {brand_name} with {len(analyzed_data)} new posts.\")\n",
    "    else:\n",
    "        print(f\"No new posts found for {brand_name}.\")"
   ]
  },
  {
   "cell_type": "code",
   "execution_count": 33,
   "id": "7989cb38",
   "metadata": {},
   "outputs": [
    {
     "name": "stdout",
     "output_type": "stream",
     "text": [
      "Found subreddits for Tesla: ['Tesla', 'teslamotors', 'TeslaModelY', 'TeslaLounge', 'TeslaModel3', 'teslainvestorsclub', 'TeslaUK', 'TeslaSolar']\n",
      "Error processing post https://i.redd.it/1ocjncxuvy081.jpg: Invalid URL: https://i.redd.it/1ocjncxuvy081.jpg\n",
      "Error processing post https://www.reddit.com/r/teslamotors: Invalid URL (subreddit, not submission): https://www.reddit.com/r/teslamotors\n",
      "Error processing post https://i.redd.it/wft4t58h1ea71.jpg: Invalid URL: https://i.redd.it/wft4t58h1ea71.jpg\n",
      "Error processing post https://www.iflscience.com/physics/100yearold-nikola-teslas-invention-works-better-than-anyone-realized-could-have-untapped-potential/: Invalid URL: https://www.iflscience.com/physics/100yearold-nikola-teslas-invention-works-better-than-anyone-realized-could-have-untapped-potential/\n",
      "Error processing post https://i.redd.it/bhg7jbfks4r71.png: Invalid URL: https://i.redd.it/bhg7jbfks4r71.png\n",
      "Error processing post https://thepowerofknowledge.xyz/ac-or-dc-how-nikola-tesla-enabled-george-westinghouse-to-win-the-war-of-electric-currents-against-1efa70270856: Invalid URL: https://thepowerofknowledge.xyz/ac-or-dc-how-nikola-tesla-enabled-george-westinghouse-to-win-the-war-of-electric-currents-against-1efa70270856\n",
      "Error processing post https://i.redd.it/c7epzlq6cd1f1.jpeg: Invalid URL: https://i.redd.it/c7epzlq6cd1f1.jpeg\n",
      "Error processing post https://i.redd.it/8grkry8wr1cf1.jpeg: Invalid URL: https://i.redd.it/8grkry8wr1cf1.jpeg\n",
      "Error processing post https://www.theverge.com/2024/6/6/24173064/tesla-board-chair-warn-elon-musk-leave-pay-shareholders: Invalid URL: https://www.theverge.com/2024/6/6/24173064/tesla-board-chair-warn-elon-musk-leave-pay-shareholders\n",
      "Error processing post https://www.forbes.com.au/news/innovation/teslas-top-retail-investor-votes-against-restoring-elon-musks-50-billion-pay-package/: Invalid URL: https://www.forbes.com.au/news/innovation/teslas-top-retail-investor-votes-against-restoring-elon-musks-50-billion-pay-package/\n",
      "Error processing post https://electrek.co/2024/05/20/elon-musk-confirms-threat-give-me-25-of-tesla-or-no-ai-robotics/: Invalid URL: https://electrek.co/2024/05/20/elon-musk-confirms-threat-give-me-25-of-tesla-or-no-ai-robotics/\n",
      "Error processing post https://www.reuters.com/world/us/trump-says-he-will-label-violence-against-tesla-dealers-domestic-terrorism-2025-03-11/: Invalid URL: https://www.reuters.com/world/us/trump-says-he-will-label-violence-against-tesla-dealers-domestic-terrorism-2025-03-11/\n",
      "Error processing post https://financialpost.com/commodities/energy/electric-vehicles/tesla-shareholders-elon-musk-package-glass-lewis: Invalid URL: https://financialpost.com/commodities/energy/electric-vehicles/tesla-shareholders-elon-musk-package-glass-lewis\n",
      "Error processing post https://i.redd.it/yelcdgv1m16f1.jpeg: Invalid URL: https://i.redd.it/yelcdgv1m16f1.jpeg\n",
      "Error processing post https://i.redd.it/756ruy6svrne1.jpeg: Invalid URL: https://i.redd.it/756ruy6svrne1.jpeg\n",
      "Error processing post https://asset.skoiy.com/jnrcnjwljorqgsbu/0bso6zwabwyc.jpg: Invalid URL: https://asset.skoiy.com/jnrcnjwljorqgsbu/0bso6zwabwyc.jpg\n",
      "Error processing post https://i.redd.it/t32k9bt5elye1.jpeg: Invalid URL: https://i.redd.it/t32k9bt5elye1.jpeg\n",
      "Error processing post https://i.redd.it/u99msih1dgue1.jpeg: Invalid URL: https://i.redd.it/u99msih1dgue1.jpeg\n",
      "Error processing post https://i.redd.it/avgujshu8nse1.jpeg: Invalid URL: https://i.redd.it/avgujshu8nse1.jpeg\n",
      "Error processing post https://i.redd.it/mbetqcqzqv9f1.jpeg: Invalid URL: https://i.redd.it/mbetqcqzqv9f1.jpeg\n",
      "Error processing post https://i.redd.it/y1o3xcbrtt1f1.jpeg: Invalid URL: https://i.redd.it/y1o3xcbrtt1f1.jpeg\n",
      "Error processing post https://i.redd.it/3w43owfj31cf1.jpeg: Invalid URL: https://i.redd.it/3w43owfj31cf1.jpeg\n",
      "Error processing post https://i.redd.it/evgcvrd6r4qe1.jpeg: Invalid URL: https://i.redd.it/evgcvrd6r4qe1.jpeg\n",
      "Error processing post https://insideevs.com/news/749741/tesla-ev-buyers-favorability-rating/: Invalid URL: https://insideevs.com/news/749741/tesla-ev-buyers-favorability-rating/\n",
      "Error processing post https://www.ibtimes.co.uk/tesla-board-urged-reject-largest-possible-pay-package-ceo-corporate-america-1724770: Invalid URL: https://www.ibtimes.co.uk/tesla-board-urged-reject-largest-possible-pay-package-ceo-corporate-america-1724770\n",
      "Error processing post https://i.redd.it/gmvseeu3gr2f1.jpeg: Invalid URL: https://i.redd.it/gmvseeu3gr2f1.jpeg\n",
      "Error processing post https://www.bloomberg.com/news/articles/2024-01-30/elon-musk-s-55-billion-tesla-pay-package-voided-by-judge?embedded-checkout=true: Invalid URL: https://www.bloomberg.com/news/articles/2024-01-30/elon-musk-s-55-billion-tesla-pay-package-voided-by-judge?embedded-checkout=true\n",
      "Updated Tesla with 276 new posts.\n"
     ]
    }
   ],
   "source": [
    "if __name__ == \"__main__\":\n",
    "    brand = input(\"Enter brand name (e.g., Tesla, Nike): \").strip()\n",
    "    update_brand_data(brand)"
   ]
  },
  {
   "cell_type": "code",
   "execution_count": null,
   "id": "1d346dd5",
   "metadata": {},
   "outputs": [
    {
     "name": "stdout",
     "output_type": "stream",
     "text": [
      "\n",
      "Sentiment Summary:\n",
      "  sentiment  count\n",
      "0  negative     62\n",
      "1   neutral     62\n",
      "2  positive    152\n"
     ]
    }
   ],
   "source": [
    "#test\n",
    "query = f\"\"\"\n",
    "SELECT \n",
    "    sentiment, \n",
    "    COUNT(*) as count \n",
    "FROM reddit_posts \n",
    "WHERE brand = '{brand}'\n",
    "GROUP BY sentiment\n",
    "\"\"\"\n",
    "summary = pd.read_sql(query, engine)\n",
    "print(\"\\nSentiment Summary:\")\n",
    "print(summary)"
   ]
  }
 ],
 "metadata": {
  "kernelspec": {
   "display_name": "Python 3",
   "language": "python",
   "name": "python3"
  },
  "language_info": {
   "codemirror_mode": {
    "name": "ipython",
    "version": 3
   },
   "file_extension": ".py",
   "mimetype": "text/x-python",
   "name": "python",
   "nbconvert_exporter": "python",
   "pygments_lexer": "ipython3",
   "version": "3.13.1"
  }
 },
 "nbformat": 4,
 "nbformat_minor": 5
}
